{
 "cells": [
  {
   "cell_type": "code",
   "execution_count": 57,
   "id": "4bc5eff5",
   "metadata": {},
   "outputs": [],
   "source": [
    "# python code to query the Census API and load the results into a pandas DataFrame"
   ]
  },
  {
   "cell_type": "code",
   "execution_count": 58,
   "id": "eddedf97",
   "metadata": {},
   "outputs": [
    {
     "name": "stdout",
     "output_type": "stream",
     "text": [
      "['P001001', 'NAME', 'state']\n"
     ]
    }
   ],
   "source": [
    "# query the Census API using Python and the \"requests\" HTTP library\n",
    "import requests\n",
    "HOST = \"https://api.census.gov/data\"\n",
    "year = \"2010\"\n",
    "dataset = \"dec/sf1\"\n",
    "base_url = \"/\".join([HOST, year, dataset])\n",
    "predicates = {}\n",
    "get_vars = [\"P001001\", \"NAME\"]\n",
    "predicates[\"get\"] = \",\".join(get_vars)\n",
    "predicates[\"for\"] = \"state:*\" #the asterisk wild card lets us request all states\n",
    "r = requests.get(base_url, params=predicates)\n",
    "print(r.json()[0]) # show the column names"
   ]
  },
  {
   "cell_type": "code",
   "execution_count": 59,
   "id": "b988f515",
   "metadata": {},
   "outputs": [
    {
     "name": "stdout",
     "output_type": "stream",
     "text": [
      "[[\"P001001\",\"NAME\",\"state\"],\n",
      "[\"4779736\",\"Alabama\",\"01\"],\n",
      "[\"710231\",\"Alaska\",\"02\"],\n",
      "[\"6392017\",\"Arizona\",\"04\"],\n",
      "[\"2915918\",\"Arkansas\",\"05\"],\n",
      "[\"37253956\",\"California\",\"06\"],\n",
      "[\"4533372\",\"Louisiana\",\"22\"],\n",
      "[\"4339367\",\"Kentucky\",\"21\"],\n",
      "[\"5029196\",\"Colorado\",\"08\"],\n",
      "[\"3574097\",\"Connecticut\",\"09\"],\n",
      "[\"897934\",\"Delaware\",\"10\"],\n",
      "[\"601723\",\"District of Columbia\",\"11\"],\n",
      "[\"18801310\",\"Florida\",\"12\"],\n",
      "[\"9687653\",\"Georgia\",\"13\"],\n",
      "[\"1360301\",\"Hawaii\",\"15\"],\n",
      "[\"1567582\",\"Idaho\",\"16\"],\n",
      "[\"12830632\",\"Illinois\",\"17\"],\n",
      "[\"6483802\",\"Indiana\",\"18\"],\n",
      "[\"3046355\",\"Iowa\",\"19\"],\n",
      "[\"2853118\",\"Kansas\",\"20\"],\n",
      "[\"1328361\",\"Maine\",\"23\"],\n",
      "[\"5773552\",\"Maryland\",\"24\"],\n",
      "[\"6547629\",\"Massachusetts\",\"25\"],\n",
      "[\"9883640\",\"Michigan\",\"26\"],\n",
      "[\"5303925\",\"Minnesota\",\"27\"],\n",
      "[\"2967297\",\"Mississippi\",\"28\"],\n",
      "[\"5988927\",\"Missouri\",\"29\"],\n",
      "[\"989415\",\"Montana\",\"30\"],\n",
      "[\"1826341\",\"Nebraska\",\"31\"],\n",
      "[\"2700551\",\"Nevada\",\"32\"],\n",
      "[\"1316470\",\"New Hampshire\",\"33\"],\n",
      "[\"8791894\",\"New Jersey\",\"34\"],\n",
      "[\"2059179\",\"New Mexico\",\"35\"],\n",
      "[\"19378102\",\"New York\",\"36\"],\n",
      "[\"9535483\",\"North Carolina\",\"37\"],\n",
      "[\"672591\",\"North Dakota\",\"38\"],\n",
      "[\"11536504\",\"Ohio\",\"39\"],\n",
      "[\"3751351\",\"Oklahoma\",\"40\"],\n",
      "[\"3831074\",\"Oregon\",\"41\"],\n",
      "[\"12702379\",\"Pennsylvania\",\"42\"],\n",
      "[\"1052567\",\"Rhode Island\",\"44\"],\n",
      "[\"4625364\",\"South Carolina\",\"45\"],\n",
      "[\"814180\",\"South Dakota\",\"46\"],\n",
      "[\"6346105\",\"Tennessee\",\"47\"],\n",
      "[\"25145561\",\"Texas\",\"48\"],\n",
      "[\"2763885\",\"Utah\",\"49\"],\n",
      "[\"625741\",\"Vermont\",\"50\"],\n",
      "[\"8001024\",\"Virginia\",\"51\"],\n",
      "[\"6724540\",\"Washington\",\"53\"],\n",
      "[\"1852994\",\"West Virginia\",\"54\"],\n",
      "[\"5686986\",\"Wisconsin\",\"55\"],\n",
      "[\"563626\",\"Wyoming\",\"56\"],\n",
      "[\"3725789\",\"Puerto Rico\",\"72\"]]\n"
     ]
    }
   ],
   "source": [
    "print(r.text) # print out the return value of the request"
   ]
  },
  {
   "cell_type": "code",
   "execution_count": 60,
   "id": "1bb2233a",
   "metadata": {},
   "outputs": [
    {
     "name": "stdout",
     "output_type": "stream",
     "text": [
      "<class 'str'>\n"
     ]
    }
   ],
   "source": [
    "print(type(r.text)) # the return value is a string in the form of a list of lists"
   ]
  },
  {
   "cell_type": "code",
   "execution_count": 61,
   "id": "072cf5ee",
   "metadata": {},
   "outputs": [
    {
     "name": "stdout",
     "output_type": "stream",
     "text": [
      "        pop       state state_code\n",
      "0   4779736     Alabama         01\n",
      "1    710231      Alaska         02\n",
      "2   6392017     Arizona         04\n",
      "3   2915918    Arkansas         05\n",
      "4  37253956  California         06\n"
     ]
    }
   ],
   "source": [
    "col_names = [\"pop\", \"state\", \"state_code\"] # new column names\n",
    "import pandas as pd\n",
    "\n",
    "#turn the response object into a pandas DataFrame. Skip the first row, since that has the old column names.\n",
    "df = pd.DataFrame(columns=col_names, data=r.json()[1:])\n",
    "print(df.head())"
   ]
  },
  {
   "cell_type": "code",
   "execution_count": 62,
   "id": "44efd346",
   "metadata": {},
   "outputs": [
    {
     "data": {
      "text/plain": [
       "pop           object\n",
       "state         object\n",
       "state_code    object\n",
       "dtype: object"
      ]
     },
     "execution_count": 62,
     "metadata": {},
     "output_type": "execute_result"
    }
   ],
   "source": [
    "# find out what data types are in the pandas DataFrame\n",
    "df.dtypes"
   ]
  },
  {
   "cell_type": "code",
   "execution_count": 63,
   "id": "06996ea4",
   "metadata": {},
   "outputs": [
    {
     "data": {
      "text/plain": [
       "pop            int64\n",
       "state         object\n",
       "state_code     int64\n",
       "dtype: object"
      ]
     },
     "execution_count": 63,
     "metadata": {},
     "output_type": "execute_result"
    }
   ],
   "source": [
    "# change the numeric columns to int data type\n",
    "df[\"pop\"] = df[\"pop\"].astype(int)\n",
    "df[\"state_code\"] = df[\"state_code\"].astype(int)\n",
    "df.dtypes"
   ]
  }
 ],
 "metadata": {
  "kernelspec": {
   "display_name": "Python 3 (ipykernel)",
   "language": "python",
   "name": "python3"
  },
  "language_info": {
   "codemirror_mode": {
    "name": "ipython",
    "version": 3
   },
   "file_extension": ".py",
   "mimetype": "text/x-python",
   "name": "python",
   "nbconvert_exporter": "python",
   "pygments_lexer": "ipython3",
   "version": "3.9.7"
  }
 },
 "nbformat": 4,
 "nbformat_minor": 5
}
